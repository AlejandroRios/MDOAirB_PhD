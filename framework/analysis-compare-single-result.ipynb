{
 "cells": [
  {
   "cell_type": "code",
   "execution_count": 14,
   "metadata": {},
   "outputs": [],
   "source": [
    "import pandas as pd\n",
    "import os\n",
    "import matplotlib.pyplot as plt\n",
    "import numpy as np\n",
    "\n",
    "\n",
    "def refactor(dataset, label):\n",
    "    return dataset[label].apply(lambda x:\n",
    "                           np.fromstring(\n",
    "                               x.replace('\\n', '')\n",
    "                                .replace('[', '')\n",
    "                                .replace(']', '')\n",
    "                                .replace('  ', ' '), sep=' '))[0]\n",
    "    \n",
    "def draw_figure(x, y1, y2, labelx, labely1, labely2):\n",
    "    fig, host = plt.subplots()\n",
    "    fig.subplots_adjust(right=0.75)\n",
    "    par1 = host.twinx()\n",
    "    par1.set_ylabel(labely2)\n",
    "    p1, = host.plot(x, y1, label=labely1)\n",
    "    p2, = par1.plot(x, y2, label=labely2, color='r')\n",
    "    host.set_ylabel(labely1)\n",
    "    host.set_xlabel(labelx)\n",
    "    host.tick_params(axis='y', colors=p1.get_color())\n",
    "    par1.tick_params(axis='y', colors=p2.get_color())\n",
    "    plt.grid()\n",
    "    plt.draw()\n",
    "    plt.show()\n",
    "    \n",
    "def superpose_figure(x1, y1, x2, y2, labelx, labely):\n",
    "    plt.plot(x1, y1, 'r', label='AS')\n",
    "    plt.plot(x2, y2, 'b', label='FPO')\n",
    "    plt.xlabel(labelx)\n",
    "    plt.ylabel(labely)\n",
    "    plt.legend(loc='upper left')\n",
    "    plt.grid()\n",
    "    plt.draw()\n",
    "    plt.show()\n",
    "    "
   ]
  },
  {
   "cell_type": "code",
   "execution_count": 6,
   "metadata": {},
   "outputs": [
    {
     "name": "stdout",
     "output_type": "stream",
     "text": [
      "/Users/to127534/MDO_Projects/MDOAirB_base/framework\n",
      "(100, 21)\n",
      "Index(['ALT (ft)', 'WGHT (kg)', 'DIST (nm)', 'TIME (mn)', 'FUEL (kg)', 'MACH',\n",
      "       'CAS (kt)', 'TAS (kt)', 'RATE (ftmn)', 'GRDT (deg)', 'ALPH (deg)',\n",
      "       'SR (nmkg)', '100CL', '100CD', 'L/D', 'PWS (hp)', 'WFE (kg/h)',\n",
      "       'FN (dan)', 'SFC (khdn)', 'PCFN (%)', 'DT (dg.c)'],\n",
      "      dtype='object')\n"
     ]
    },
    {
     "data": {
      "text/html": [
       "<div>\n",
       "<style scoped>\n",
       "    .dataframe tbody tr th:only-of-type {\n",
       "        vertical-align: middle;\n",
       "    }\n",
       "\n",
       "    .dataframe tbody tr th {\n",
       "        vertical-align: top;\n",
       "    }\n",
       "\n",
       "    .dataframe thead th {\n",
       "        text-align: right;\n",
       "    }\n",
       "</style>\n",
       "<table border=\"1\" class=\"dataframe\">\n",
       "  <thead>\n",
       "    <tr style=\"text-align: right;\">\n",
       "      <th></th>\n",
       "      <th>ALT (ft)</th>\n",
       "      <th>WGHT (kg)</th>\n",
       "      <th>DIST (nm)</th>\n",
       "      <th>TIME (mn)</th>\n",
       "      <th>FUEL (kg)</th>\n",
       "      <th>MACH</th>\n",
       "      <th>CAS (kt)</th>\n",
       "      <th>TAS (kt)</th>\n",
       "      <th>RATE (ftmn)</th>\n",
       "      <th>GRDT (deg)</th>\n",
       "      <th>...</th>\n",
       "      <th>SR (nmkg)</th>\n",
       "      <th>100CL</th>\n",
       "      <th>100CD</th>\n",
       "      <th>L/D</th>\n",
       "      <th>PWS (hp)</th>\n",
       "      <th>WFE (kg/h)</th>\n",
       "      <th>FN (dan)</th>\n",
       "      <th>SFC (khdn)</th>\n",
       "      <th>PCFN (%)</th>\n",
       "      <th>DT (dg.c)</th>\n",
       "    </tr>\n",
       "  </thead>\n",
       "  <tbody>\n",
       "    <tr>\n",
       "      <th>0</th>\n",
       "      <td>0</td>\n",
       "      <td>82206</td>\n",
       "      <td>0.0</td>\n",
       "      <td>0.00</td>\n",
       "      <td>0.0</td>\n",
       "      <td>0.000</td>\n",
       "      <td>0.0</td>\n",
       "      <td>0.0</td>\n",
       "      <td>0.0</td>\n",
       "      <td>0.00</td>\n",
       "      <td>...</td>\n",
       "      <td>0.00000</td>\n",
       "      <td>0.000</td>\n",
       "      <td>0.000</td>\n",
       "      <td>0.000</td>\n",
       "      <td>0</td>\n",
       "      <td>0.0</td>\n",
       "      <td>0</td>\n",
       "      <td>0.0000</td>\n",
       "      <td>0.0</td>\n",
       "      <td>0.0</td>\n",
       "    </tr>\n",
       "    <tr>\n",
       "      <th>1</th>\n",
       "      <td>0</td>\n",
       "      <td>82103</td>\n",
       "      <td>0.0</td>\n",
       "      <td>9.00</td>\n",
       "      <td>104.0</td>\n",
       "      <td>0.000</td>\n",
       "      <td>0.0</td>\n",
       "      <td>0.0</td>\n",
       "      <td>0.0</td>\n",
       "      <td>0.00</td>\n",
       "      <td>...</td>\n",
       "      <td>0.00000</td>\n",
       "      <td>0.000</td>\n",
       "      <td>0.000</td>\n",
       "      <td>0.000</td>\n",
       "      <td>0</td>\n",
       "      <td>0.0</td>\n",
       "      <td>0</td>\n",
       "      <td>0.0000</td>\n",
       "      <td>0.0</td>\n",
       "      <td>0.0</td>\n",
       "    </tr>\n",
       "    <tr>\n",
       "      <th>2</th>\n",
       "      <td>1500</td>\n",
       "      <td>81908</td>\n",
       "      <td>0.0</td>\n",
       "      <td>11.21</td>\n",
       "      <td>298.0</td>\n",
       "      <td>0.388</td>\n",
       "      <td>250.0</td>\n",
       "      <td>255.3</td>\n",
       "      <td>0.0</td>\n",
       "      <td>0.00</td>\n",
       "      <td>...</td>\n",
       "      <td>0.00000</td>\n",
       "      <td>0.000</td>\n",
       "      <td>0.000</td>\n",
       "      <td>0.000</td>\n",
       "      <td>0</td>\n",
       "      <td>0.0</td>\n",
       "      <td>0</td>\n",
       "      <td>0.0000</td>\n",
       "      <td>0.0</td>\n",
       "      <td>0.0</td>\n",
       "    </tr>\n",
       "    <tr>\n",
       "      <th>3</th>\n",
       "      <td>1500</td>\n",
       "      <td>81908</td>\n",
       "      <td>0.0</td>\n",
       "      <td>11.21</td>\n",
       "      <td>298.0</td>\n",
       "      <td>0.388</td>\n",
       "      <td>250.0</td>\n",
       "      <td>255.3</td>\n",
       "      <td>3262.5</td>\n",
       "      <td>7.25</td>\n",
       "      <td>...</td>\n",
       "      <td>0.04275</td>\n",
       "      <td>56.451</td>\n",
       "      <td>2.833</td>\n",
       "      <td>19.925</td>\n",
       "      <td>0</td>\n",
       "      <td>5925.0</td>\n",
       "      <td>14962</td>\n",
       "      <td>0.3960</td>\n",
       "      <td>100.0</td>\n",
       "      <td>0.0</td>\n",
       "    </tr>\n",
       "    <tr>\n",
       "      <th>4</th>\n",
       "      <td>2000</td>\n",
       "      <td>81893</td>\n",
       "      <td>0.7</td>\n",
       "      <td>11.37</td>\n",
       "      <td>314.0</td>\n",
       "      <td>0.391</td>\n",
       "      <td>250.0</td>\n",
       "      <td>257.1</td>\n",
       "      <td>3235.7</td>\n",
       "      <td>7.14</td>\n",
       "      <td>...</td>\n",
       "      <td>0.04326</td>\n",
       "      <td>56.502</td>\n",
       "      <td>2.836</td>\n",
       "      <td>19.924</td>\n",
       "      <td>0</td>\n",
       "      <td>5877.0</td>\n",
       "      <td>14808</td>\n",
       "      <td>0.3969</td>\n",
       "      <td>100.0</td>\n",
       "      <td>0.0</td>\n",
       "    </tr>\n",
       "  </tbody>\n",
       "</table>\n",
       "<p>5 rows × 21 columns</p>\n",
       "</div>"
      ],
      "text/plain": [
       "   ALT (ft)  WGHT (kg)  DIST (nm)  TIME (mn)  FUEL (kg)   MACH  CAS (kt)  \\\n",
       "0         0      82206        0.0       0.00        0.0  0.000       0.0   \n",
       "1         0      82103        0.0       9.00      104.0  0.000       0.0   \n",
       "2      1500      81908        0.0      11.21      298.0  0.388     250.0   \n",
       "3      1500      81908        0.0      11.21      298.0  0.388     250.0   \n",
       "4      2000      81893        0.7      11.37      314.0  0.391     250.0   \n",
       "\n",
       "   TAS (kt)  RATE (ftmn)  GRDT (deg)  ...  SR (nmkg)   100CL  100CD     L/D  \\\n",
       "0       0.0          0.0        0.00  ...    0.00000   0.000  0.000   0.000   \n",
       "1       0.0          0.0        0.00  ...    0.00000   0.000  0.000   0.000   \n",
       "2     255.3          0.0        0.00  ...    0.00000   0.000  0.000   0.000   \n",
       "3     255.3       3262.5        7.25  ...    0.04275  56.451  2.833  19.925   \n",
       "4     257.1       3235.7        7.14  ...    0.04326  56.502  2.836  19.924   \n",
       "\n",
       "   PWS (hp)  WFE (kg/h)  FN (dan)  SFC (khdn)  PCFN (%)  DT (dg.c)  \n",
       "0         0         0.0         0      0.0000       0.0        0.0  \n",
       "1         0         0.0         0      0.0000       0.0        0.0  \n",
       "2         0         0.0         0      0.0000       0.0        0.0  \n",
       "3         0      5925.0     14962      0.3960     100.0        0.0  \n",
       "4         0      5877.0     14808      0.3969     100.0        0.0  \n",
       "\n",
       "[5 rows x 21 columns]"
      ]
     },
     "execution_count": 6,
     "metadata": {},
     "output_type": "execute_result"
    }
   ],
   "source": [
    "path = os.getcwd()\n",
    "print(path)\n",
    "input = pd.read_csv(path + \"/Results/analysis_single_input_1-new.csv\")\n",
    "output = pd.read_csv(path + \"/Results/analysis_single_output_1-new.csv\")\n",
    "fpo_output = pd.read_excel(\n",
    "    \"/Users/to127534/MDO_Projects/MissionDetails_DOC_Mission.xls\", index_col=None)\n",
    "fpo_output.drop(columns=fpo_output.columns[0],\n",
    "                axis=1,\n",
    "                inplace=True)\n",
    "fpo_output.drop(columns=fpo_output.columns[0],\n",
    "                axis=1,\n",
    "                inplace=True)\n",
    "fpo_output.drop(columns=fpo_output.columns[0],\n",
    "                axis=1,\n",
    "                inplace=True)\n",
    "fpo_output = fpo_output.drop(range(100, 168))\n",
    "print(fpo_output.shape)\n",
    "print(fpo_output.columns)\n",
    "fpo_output.head()\n"
   ]
  },
  {
   "cell_type": "code",
   "execution_count": 7,
   "metadata": {},
   "outputs": [
    {
     "data": {
      "text/html": [
       "<div>\n",
       "<style scoped>\n",
       "    .dataframe tbody tr th:only-of-type {\n",
       "        vertical-align: middle;\n",
       "    }\n",
       "\n",
       "    .dataframe tbody tr th {\n",
       "        vertical-align: top;\n",
       "    }\n",
       "\n",
       "    .dataframe thead th {\n",
       "        text-align: right;\n",
       "    }\n",
       "</style>\n",
       "<table border=\"1\" class=\"dataframe\">\n",
       "  <thead>\n",
       "    <tr style=\"text-align: right;\">\n",
       "      <th></th>\n",
       "      <th>WingArea</th>\n",
       "      <th>x1</th>\n",
       "      <th>x2</th>\n",
       "      <th>x3</th>\n",
       "      <th>x4</th>\n",
       "      <th>x5</th>\n",
       "      <th>x6</th>\n",
       "      <th>x7</th>\n",
       "      <th>x8</th>\n",
       "      <th>x9</th>\n",
       "      <th>FanDiameter</th>\n",
       "      <th>x11</th>\n",
       "      <th>x12</th>\n",
       "      <th>x13</th>\n",
       "      <th>x14</th>\n",
       "      <th>x15</th>\n",
       "    </tr>\n",
       "  </thead>\n",
       "  <tbody>\n",
       "    <tr>\n",
       "      <th>0</th>\n",
       "      <td>142.5</td>\n",
       "      <td>135.692308</td>\n",
       "      <td>30.0</td>\n",
       "      <td>25.0</td>\n",
       "      <td>-2.25</td>\n",
       "      <td>38.5</td>\n",
       "      <td>250.0</td>\n",
       "      <td>6.0</td>\n",
       "      <td>3000.0</td>\n",
       "      <td>50.0</td>\n",
       "      <td>25.0</td>\n",
       "      <td>27.0</td>\n",
       "      <td>1350.0</td>\n",
       "      <td>15.0</td>\n",
       "      <td>38000.0</td>\n",
       "      <td>78.0</td>\n",
       "    </tr>\n",
       "  </tbody>\n",
       "</table>\n",
       "</div>"
      ],
      "text/plain": [
       "   WingArea          x1    x2    x3    x4    x5     x6   x7      x8    x9  \\\n",
       "0     142.5  135.692308  30.0  25.0 -2.25  38.5  250.0  6.0  3000.0  50.0   \n",
       "\n",
       "   FanDiameter   x11     x12   x13      x14   x15  \n",
       "0         25.0  27.0  1350.0  15.0  38000.0  78.0  "
      ]
     },
     "execution_count": 7,
     "metadata": {},
     "output_type": "execute_result"
    }
   ],
   "source": [
    "input.head()"
   ]
  },
  {
   "cell_type": "code",
   "execution_count": 8,
   "metadata": {},
   "outputs": [
    {
     "data": {
      "text/html": [
       "<div>\n",
       "<style scoped>\n",
       "    .dataframe tbody tr th:only-of-type {\n",
       "        vertical-align: middle;\n",
       "    }\n",
       "\n",
       "    .dataframe tbody tr th {\n",
       "        vertical-align: top;\n",
       "    }\n",
       "\n",
       "    .dataframe thead th {\n",
       "        text-align: right;\n",
       "    }\n",
       "</style>\n",
       "<table border=\"1\" class=\"dataframe\">\n",
       "  <thead>\n",
       "    <tr style=\"text-align: right;\">\n",
       "      <th></th>\n",
       "      <th>MTOW</th>\n",
       "      <th>DOC</th>\n",
       "      <th>fuel_mass</th>\n",
       "      <th>total_mission_flight_time</th>\n",
       "      <th>mach</th>\n",
       "      <th>passenger_capacity</th>\n",
       "      <th>SAR</th>\n",
       "      <th>landing_field_length_computed</th>\n",
       "      <th>takeoff_field_length_computed</th>\n",
       "      <th>app_speed</th>\n",
       "      <th>...</th>\n",
       "      <th>mass</th>\n",
       "      <th>time</th>\n",
       "      <th>sfc</th>\n",
       "      <th>thrust</th>\n",
       "      <th>mach.1</th>\n",
       "      <th>CL</th>\n",
       "      <th>CD</th>\n",
       "      <th>LoD</th>\n",
       "      <th>throttle</th>\n",
       "      <th>vcas</th>\n",
       "    </tr>\n",
       "  </thead>\n",
       "  <tbody>\n",
       "    <tr>\n",
       "      <th>0</th>\n",
       "      <td>130261.527834</td>\n",
       "      <td>14229.914761</td>\n",
       "      <td>7117.691713</td>\n",
       "      <td>216.774595</td>\n",
       "      <td>0.82</td>\n",
       "      <td>243.0</td>\n",
       "      <td>8.897115</td>\n",
       "      <td>2271.118632</td>\n",
       "      <td>1736.633307</td>\n",
       "      <td>78.816538</td>\n",
       "      <td>...</td>\n",
       "      <td>[107299.29528352 107299.29528324 107299.295282...</td>\n",
       "      <td>[0.00000000e+00 1.11855443e-09 2.23710885e-09 ...</td>\n",
       "      <td>[4.89100225e-01 4.89100225e-01 4.89100225e-01 ...</td>\n",
       "      <td>[1.53076666e+05 1.53076666e+05 1.53076666e+05 ...</td>\n",
       "      <td>[0.43446873 0.43446873 0.43446873 0.43446926 0...</td>\n",
       "      <td>[0.58241865 0.58241865 0.58241865 0.5824187  0...</td>\n",
       "      <td>[0.03102187 0.03102187 0.03102187 0.03102188 0...</td>\n",
       "      <td>[18.77445059 18.77445059 18.77445059 18.774451...</td>\n",
       "      <td>[0.95 0.95 0.95 0.95 0.95 0.95 0.95 0.95 0.95 ...</td>\n",
       "      <td>[280.         280.         280.         280.  ...</td>\n",
       "    </tr>\n",
       "  </tbody>\n",
       "</table>\n",
       "<p>1 rows × 24 columns</p>\n",
       "</div>"
      ],
      "text/plain": [
       "            MTOW           DOC    fuel_mass  total_mission_flight_time  mach  \\\n",
       "0  130261.527834  14229.914761  7117.691713                 216.774595  0.82   \n",
       "\n",
       "   passenger_capacity       SAR  landing_field_length_computed  \\\n",
       "0               243.0  8.897115                    2271.118632   \n",
       "\n",
       "   takeoff_field_length_computed  app_speed  ...  \\\n",
       "0                    1736.633307  78.816538  ...   \n",
       "\n",
       "                                                mass  \\\n",
       "0  [107299.29528352 107299.29528324 107299.295282...   \n",
       "\n",
       "                                                time  \\\n",
       "0  [0.00000000e+00 1.11855443e-09 2.23710885e-09 ...   \n",
       "\n",
       "                                                 sfc  \\\n",
       "0  [4.89100225e-01 4.89100225e-01 4.89100225e-01 ...   \n",
       "\n",
       "                                              thrust  \\\n",
       "0  [1.53076666e+05 1.53076666e+05 1.53076666e+05 ...   \n",
       "\n",
       "                                              mach.1  \\\n",
       "0  [0.43446873 0.43446873 0.43446873 0.43446926 0...   \n",
       "\n",
       "                                                  CL  \\\n",
       "0  [0.58241865 0.58241865 0.58241865 0.5824187  0...   \n",
       "\n",
       "                                                  CD  \\\n",
       "0  [0.03102187 0.03102187 0.03102187 0.03102188 0...   \n",
       "\n",
       "                                                 LoD  \\\n",
       "0  [18.77445059 18.77445059 18.77445059 18.774451...   \n",
       "\n",
       "                                            throttle  \\\n",
       "0  [0.95 0.95 0.95 0.95 0.95 0.95 0.95 0.95 0.95 ...   \n",
       "\n",
       "                                                vcas  \n",
       "0  [280.         280.         280.         280.  ...  \n",
       "\n",
       "[1 rows x 24 columns]"
      ]
     },
     "execution_count": 8,
     "metadata": {},
     "output_type": "execute_result"
    }
   ],
   "source": [
    "output.head()"
   ]
  },
  {
   "cell_type": "code",
   "execution_count": 16,
   "metadata": {},
   "outputs": [],
   "source": [
    "distance = refactor(output, 'distance')*0.000539957\n",
    "mass = refactor(output, 'mass')\n",
    "altitude = refactor(output, 'altitude')\n",
    "time = refactor(output, 'time')\n",
    "LoD = refactor(output, 'LoD')\n",
    "sfc = refactor(output, 'sfc')\n",
    "CL = refactor(output,'CL')\n",
    "CD = refactor(output,'CD')\n",
    "mach = refactor(output,'mach.1')\n",
    "thrust = refactor(output,'thrust')\n",
    "throttle = refactor(output, 'throttle')\n",
    "vcas = refactor(output, 'vcas')\n",
    "\n",
    "distance_fpo = fpo_output['DIST (nm)'].to_numpy()\n",
    "mass_fpo = fpo_output['WGHT (kg)'].to_numpy()\n",
    "altitude_fpo = fpo_output['ALT (ft)'].to_numpy()\n",
    "time_fpo = fpo_output['TIME (mn)'].to_numpy()\n",
    "LoD_fpo = fpo_output['L/D'].to_numpy()\n",
    "sfc_fpo = fpo_output['SFC (khdn)'].to_numpy()\n",
    "CL_fpo = fpo_output['100CL'].to_numpy()\n",
    "CD_fpo = fpo_output['100CD'].to_numpy()\n",
    "mach_fpo = fpo_output['MACH'].to_numpy()\n",
    "thrust_fpo = fpo_output['FN (dan)'].to_numpy()\n",
    "throttle_fpo = fpo_output['PCFN (%)'].to_numpy()\n",
    "vcas_fpo = fpo_output['CAS (kt)'].to_numpy()\n"
   ]
  },
  {
   "cell_type": "code",
   "execution_count": 17,
   "metadata": {},
   "outputs": [
    {
     "data": {
      "image/png": "[encoded data removed]",
      "text/plain": [
       "<Figure size 432x288 with 1 Axes>"
      ]
     },
     "metadata": {
      "needs_background": "light"
     },
     "output_type": "display_data"
    }
   ],
   "source": [
    "superpose_figure(distance,time, distance_fpo, time_fpo, \"Distance (NM)\", \"Time (min)\")"
   ]
  },
  {
   "cell_type": "code",
   "execution_count": 18,
   "metadata": {},
   "outputs": [
    {
     "name": "stdout",
     "output_type": "stream",
     "text": [
      "855.29067849632\n",
      "108.874595\n",
      "6751.898661019994\n",
      "1500.0\n",
      "487.74602058\n"
     ]
    }
   ],
   "source": [
    "print(distance[-1])\n",
    "print(time[-1])\n",
    "print(mass[0]-mass[-1])\n",
    "print(altitude[0])\n",
    "print(altitude[-1])\n"
   ]
  },
  {
   "cell_type": "code",
   "execution_count": 19,
   "metadata": {},
   "outputs": [
    {
     "data": {
      "image/png": "[encoded data removed]",
      "text/plain": [
       "<Figure size 432x288 with 1 Axes>"
      ]
     },
     "metadata": {
      "needs_background": "light"
     },
     "output_type": "display_data"
    }
   ],
   "source": [
    "superpose_figure(distance, LoD, distance_fpo,\n",
    "                 LoD_fpo, \"Distance (NM)\", \"LoD\")\n"
   ]
  },
  {
   "cell_type": "code",
   "execution_count": 20,
   "metadata": {},
   "outputs": [
    {
     "data": {
      "image/png": "[encoded data removed]",
      "text/plain": [
       "<Figure size 432x288 with 1 Axes>"
      ]
     },
     "metadata": {
      "needs_background": "light"
     },
     "output_type": "display_data"
    }
   ],
   "source": [
    "superpose_figure(distance, sfc, distance_fpo,\n",
    "                 sfc_fpo, \"Distance (NM)\", \"SFC\")\n"
   ]
  },
  {
   "cell_type": "code",
   "execution_count": 32,
   "metadata": {},
   "outputs": [
    {
     "data": {
      "image/png": "[encoded data removed]",
      "text/plain": [
       "<Figure size 432x288 with 1 Axes>"
      ]
     },
     "metadata": {
      "needs_background": "light"
     },
     "output_type": "display_data"
    }
   ],
   "source": [
    "superpose_figure(distance, CL, distance_fpo,\n",
    "                 CL_fpo/100, \"Distance (NM)\", \"CL\")\n"
   ]
  },
  {
   "cell_type": "code",
   "execution_count": 33,
   "metadata": {},
   "outputs": [
    {
     "data": {
      "image/png": "[encoded data removed]",
      "text/plain": [
       "<Figure size 432x288 with 1 Axes>"
      ]
     },
     "metadata": {
      "needs_background": "light"
     },
     "output_type": "display_data"
    }
   ],
   "source": [
    "superpose_figure(distance, CD, distance_fpo,\n",
    "                 CD_fpo/100, \"Distance (NM)\", \"CD\")\n"
   ]
  },
  {
   "cell_type": "code",
   "execution_count": 24,
   "metadata": {},
   "outputs": [
    {
     "data": {
      "image/png": "[encoded data removed]",
      "text/plain": [
       "<Figure size 432x288 with 1 Axes>"
      ]
     },
     "metadata": {
      "needs_background": "light"
     },
     "output_type": "display_data"
    }
   ],
   "source": [
    "superpose_figure(distance, mach, distance_fpo,\n",
    "                 mach_fpo, \"Distance (NM)\", \"Mach\")"
   ]
  },
  {
   "cell_type": "code",
   "execution_count": 26,
   "metadata": {},
   "outputs": [
    {
     "data": {
      "image/png": "[encoded data removed]",
      "text/plain": [
       "<Figure size 432x288 with 1 Axes>"
      ]
     },
     "metadata": {
      "needs_background": "light"
     },
     "output_type": "display_data"
    }
   ],
   "source": [
    "superpose_figure(distance, thrust/10, distance_fpo,\n",
    "                 thrust_fpo, \"Distance (NM)\", \"Thrust\")\n"
   ]
  },
  {
   "cell_type": "code",
   "execution_count": 29,
   "metadata": {},
   "outputs": [
    {
     "data": {
      "image/png": "[encoded data removed]",
      "text/plain": [
       "<Figure size 432x288 with 1 Axes>"
      ]
     },
     "metadata": {
      "needs_background": "light"
     },
     "output_type": "display_data"
    }
   ],
   "source": [
    "superpose_figure(distance, throttle*100, distance_fpo,\n",
    "                 throttle_fpo, \"Distance (NM)\", \"Throttle position\")"
   ]
  },
  {
   "cell_type": "code",
   "execution_count": 30,
   "metadata": {},
   "outputs": [
    {
     "data": {
      "image/png": "[encoded data removed]",
      "text/plain": [
       "<Figure size 432x288 with 1 Axes>"
      ]
     },
     "metadata": {
      "needs_background": "light"
     },
     "output_type": "display_data"
    }
   ],
   "source": [
    "superpose_figure(distance, vcas, distance_fpo,\n",
    "                 vcas_fpo, \"Distance (NM)\", \"VCAS (kt)\")"
   ]
  },
  {
   "cell_type": "code",
   "execution_count": 31,
   "metadata": {},
   "outputs": [
    {
     "data": {
      "image/png": "[encoded data removed]",
      "text/plain": [
       "<Figure size 432x288 with 1 Axes>"
      ]
     },
     "metadata": {
      "needs_background": "light"
     },
     "output_type": "display_data"
    }
   ],
   "source": [
    "superpose_figure(distance, mass, distance_fpo,\n",
    "                 mass_fpo, \"Distance (NM)\", \"Mass (kg)\")"
   ]
  },
  {
   "cell_type": "code",
   "execution_count": 34,
   "metadata": {},
   "outputs": [
    {
     "data": {
      "text/plain": [
       "0.218821667"
      ]
     },
     "execution_count": 34,
     "metadata": {},
     "output_type": "execute_result"
    }
   ],
   "source": [
    "min(sfc)"
   ]
  },
  {
   "cell_type": "code",
   "execution_count": 35,
   "metadata": {},
   "outputs": [
    {
     "data": {
      "text/plain": [
       "796.975269"
      ]
     },
     "execution_count": 35,
     "metadata": {},
     "output_type": "execute_result"
    }
   ],
   "source": [
    "max(sfc)"
   ]
  },
  {
   "cell_type": "code",
   "execution_count": 36,
   "metadata": {},
   "outputs": [
    {
     "data": {
      "text/plain": [
       "array([4.89100225e-01, 4.89100225e-01, 4.89100225e-01, 4.89100386e-01,\n",
       "       4.89100547e-01, 4.89100708e-01, 4.89102318e-01, 4.89103929e-01,\n",
       "       4.89105540e-01, 4.89121645e-01, 4.89137750e-01, 4.89153856e-01,\n",
       "       4.89169961e-01, 4.89331006e-01, 4.89492040e-01, 4.89653062e-01,\n",
       "       4.89814073e-01, 4.91423473e-01, 4.93031370e-01, 4.94637464e-01,\n",
       "       4.96241461e-01, 4.97843072e-01, 5.13667695e-01, 5.15896999e-01,\n",
       "       5.16589476e-01, 5.17280823e-01, 5.31369517e-01, 5.43369204e-01,\n",
       "       5.54074749e-01, 5.67135513e-01, 5.78310195e-01, 2.66444453e+01,\n",
       "       2.66444453e+01, 2.66444453e+01, 2.66446563e+01, 2.66448673e+01,\n",
       "       2.66450783e+01, 2.66471884e+01, 2.66492989e+01, 2.66514097e+01,\n",
       "       2.66725375e+01, 2.66937005e+01, 2.67148988e+01, 2.67361324e+01,\n",
       "       2.69504343e+01, 2.71683735e+01, 2.73900437e+01, 2.76155415e+01,\n",
       "       2.78449671e+01, 3.03800227e+01, 3.34500249e+01, 3.72445392e+01,\n",
       "       4.20546939e+01, 2.31862623e+01, 8.32079628e+01, 2.66984256e+01,\n",
       "       2.19243538e+01, 7.96975269e+02, 1.86587687e+01, 1.96930012e+01,\n",
       "       2.23963441e+01, 2.89643718e+00, 1.57861165e+00, 1.08890089e+00,\n",
       "       8.25243893e-01, 6.58021626e-01, 5.57643069e-01, 3.48713417e-01,\n",
       "       3.43456426e-01, 3.38335964e-01, 2.84984351e-01, 2.44579113e-01,\n",
       "       2.18821667e-01])"
      ]
     },
     "execution_count": 36,
     "metadata": {},
     "output_type": "execute_result"
    }
   ],
   "source": [
    "sfc"
   ]
  },
  {
   "cell_type": "code",
   "execution_count": null,
   "metadata": {},
   "outputs": [],
   "source": []
  }
 ],
 "metadata": {
  "interpreter": {
   "hash": "2fc9de690da9f43bda2bdb2fbbe11d3a7272bb2ef4ae4279864674c01cdf294b"
  },
  "kernelspec": {
   "display_name": "Python 3.6.13 ('MDOAirB')",
   "language": "python",
   "name": "python3"
  },
  "language_info": {
   "codemirror_mode": {
    "name": "ipython",
    "version": 3
   },
   "file_extension": ".py",
   "mimetype": "text/x-python",
   "name": "python",
   "nbconvert_exporter": "python",
   "pygments_lexer": "ipython3",
   "version": "3.6.13"
  },
  "orig_nbformat": 4
 },
 "nbformat": 4,
 "nbformat_minor": 2
}
